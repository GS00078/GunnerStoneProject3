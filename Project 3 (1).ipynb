{
  "metadata": {
    "kernelspec": {
      "name": "python",
      "display_name": "Python (Pyodide)",
      "language": "python"
    },
    "language_info": {
      "codemirror_mode": {
        "name": "python",
        "version": 3
      },
      "file_extension": ".py",
      "mimetype": "text/x-python",
      "name": "python",
      "nbconvert_exporter": "python",
      "pygments_lexer": "ipython3",
      "version": "3.8"
    }
  },
  "nbformat_minor": 4,
  "nbformat": 4,
  "cells": [
    {
      "cell_type": "code",
      "source": "import pandas as pd\nimport numpy as np\nimport matplotlib.pyplot as plt\nfrom scipy import stats\nfrom sklearn.preprocessing import StandardScaler\nfrom sklearn.model_selection import train_test_split\nfrom sklearn.ensemble import RandomForestRegressor\nfrom sklearn.metrics import mean_squared_error, r2_score\nfrom sklearn.linear_model import LinearRegression\nimport pickle\ndf = pd.read_csv('Life Expectancy Data.csv')",
      "metadata": {
        "trusted": true
      },
      "outputs": [],
      "execution_count": 31
    },
    {
      "cell_type": "code",
      "source": "print(df.head())\ndf.shape\ndf.info()",
      "metadata": {
        "trusted": true
      },
      "outputs": [
        {
          "name": "stdout",
          "text": "       Country  Year      Status  Life expectancy   Adult Mortality  \\\n0  Afghanistan  2015  Developing              65.0            263.0   \n1  Afghanistan  2014  Developing              59.9            271.0   \n2  Afghanistan  2013  Developing              59.9            268.0   \n3  Afghanistan  2012  Developing              59.5            272.0   \n4  Afghanistan  2011  Developing              59.2            275.0   \n\n   infant deaths  Alcohol  percentage expenditure  Hepatitis B  Measles   ...  \\\n0             62     0.01               71.279624         65.0      1154  ...   \n1             64     0.01               73.523582         62.0       492  ...   \n2             66     0.01               73.219243         64.0       430  ...   \n3             69     0.01               78.184215         67.0      2787  ...   \n4             71     0.01                7.097109         68.0      3013  ...   \n\n   Polio  Total expenditure  Diphtheria    HIV/AIDS         GDP  Population  \\\n0    6.0               8.16         65.0        0.1  584.259210  33736494.0   \n1   58.0               8.18         62.0        0.1  612.696514    327582.0   \n2   62.0               8.13         64.0        0.1  631.744976  31731688.0   \n3   67.0               8.52         67.0        0.1  669.959000   3696958.0   \n4   68.0               7.87         68.0        0.1   63.537231   2978599.0   \n\n    thinness  1-19 years   thinness 5-9 years  \\\n0                   17.2                 17.3   \n1                   17.5                 17.5   \n2                   17.7                 17.7   \n3                   17.9                 18.0   \n4                   18.2                 18.2   \n\n   Income composition of resources  Schooling  \n0                            0.479       10.1  \n1                            0.476       10.0  \n2                            0.470        9.9  \n3                            0.463        9.8  \n4                            0.454        9.5  \n\n[5 rows x 22 columns]\n<class 'pandas.core.frame.DataFrame'>\nRangeIndex: 2938 entries, 0 to 2937\nData columns (total 22 columns):\n #   Column                           Non-Null Count  Dtype  \n---  ------                           --------------  -----  \n 0   Country                          2938 non-null   object \n 1   Year                             2938 non-null   int64  \n 2   Status                           2938 non-null   object \n 3   Life expectancy                  2928 non-null   float64\n 4   Adult Mortality                  2928 non-null   float64\n 5   infant deaths                    2938 non-null   int64  \n 6   Alcohol                          2744 non-null   float64\n 7   percentage expenditure           2938 non-null   float64\n 8   Hepatitis B                      2385 non-null   float64\n 9   Measles                          2938 non-null   int64  \n 10   BMI                             2904 non-null   float64\n 11  under-five deaths                2938 non-null   int64  \n 12  Polio                            2919 non-null   float64\n 13  Total expenditure                2712 non-null   float64\n 14  Diphtheria                       2919 non-null   float64\n 15   HIV/AIDS                        2938 non-null   float64\n 16  GDP                              2490 non-null   float64\n 17  Population                       2286 non-null   float64\n 18   thinness  1-19 years            2904 non-null   float64\n 19   thinness 5-9 years              2904 non-null   float64\n 20  Income composition of resources  2771 non-null   float64\n 21  Schooling                        2775 non-null   float64\ndtypes: float64(16), int64(4), object(2)\nmemory usage: 482.1+ KB\n",
          "output_type": "stream"
        }
      ],
      "execution_count": 32
    },
    {
      "cell_type": "code",
      "source": "#Check for missing values\nmissing_values = df.isnull().sum()\nmissing_values = missing_values[missing_values > 0]\nprint(\"Missing Values:\\n\", missing_values)",
      "metadata": {
        "trusted": true
      },
      "outputs": [
        {
          "name": "stdout",
          "text": "Missing Values:\n Life expectancy                     10\nAdult Mortality                     10\nAlcohol                            194\nHepatitis B                        553\n BMI                                34\nPolio                               19\nTotal expenditure                  226\nDiphtheria                          19\nGDP                                448\nPopulation                         652\n thinness  1-19 years               34\n thinness 5-9 years                 34\nIncome composition of resources    167\nSchooling                          163\ndtype: int64\n",
          "output_type": "stream"
        }
      ],
      "execution_count": 33
    },
    {
      "cell_type": "code",
      "source": "#Verify column names\nprint(\"Column Names:\\n\", df.columns)",
      "metadata": {
        "trusted": true
      },
      "outputs": [
        {
          "name": "stdout",
          "text": "Column Names:\n Index(['Country', 'Year', 'Status', 'Life expectancy ', 'Adult Mortality',\n       'infant deaths', 'Alcohol', 'percentage expenditure', 'Hepatitis B',\n       'Measles ', ' BMI ', 'under-five deaths ', 'Polio', 'Total expenditure',\n       'Diphtheria ', ' HIV/AIDS', 'GDP', 'Population',\n       ' thinness  1-19 years', ' thinness 5-9 years',\n       'Income composition of resources', 'Schooling'],\n      dtype='object')\n",
          "output_type": "stream"
        }
      ],
      "execution_count": 34
    },
    {
      "cell_type": "code",
      "source": "#Fix missing values by adding in median\ndf.columns = df.columns.str.strip()\n\nnum_cols_with_missing = [\n    'Life expectancy', 'Adult Mortality', 'Alcohol', 'Hepatitis B', 'BMI',\n    'Polio', 'Total expenditure', 'Diphtheria', 'GDP', 'Population',\n    'thinness  1-19 years', 'thinness 5-9 years',\n    'Income composition of resources', 'Schooling'\n]\n\nfor col in num_cols_with_missing:\n    median = df[col].median()\n    df[col] = df[col].fillna(median)\n\nprint(\"Missing Values After Filling with Median:\\n\", df.isnull().sum())",
      "metadata": {
        "trusted": true
      },
      "outputs": [
        {
          "name": "stdout",
          "text": "Missing Values After Filling with Median:\n Country                            0\nYear                               0\nStatus                             0\nLife expectancy                    0\nAdult Mortality                    0\ninfant deaths                      0\nAlcohol                            0\npercentage expenditure             0\nHepatitis B                        0\nMeasles                            0\nBMI                                0\nunder-five deaths                  0\nPolio                              0\nTotal expenditure                  0\nDiphtheria                         0\nHIV/AIDS                           0\nGDP                                0\nPopulation                         0\nthinness  1-19 years               0\nthinness 5-9 years                 0\nIncome composition of resources    0\nSchooling                          0\ndtype: int64\n",
          "output_type": "stream"
        }
      ],
      "execution_count": 35
    },
    {
      "cell_type": "code",
      "source": "#Handle Duplicates\ndf = df.drop_duplicates()\n\nprint(\"Number of duplicate rows removed:\", df.duplicated().sum())\nprint(\"Shape of dataset after removing duplicates:\", df.shape)",
      "metadata": {
        "trusted": true
      },
      "outputs": [
        {
          "name": "stdout",
          "text": "Number of duplicate rows removed: 0\nShape of dataset after removing duplicates: (2938, 22)\n",
          "output_type": "stream"
        }
      ],
      "execution_count": 36
    },
    {
      "cell_type": "code",
      "source": "# Identify categorical columns\ncategorical_cols = ['Country', 'Status']\n\nfor col in categorical_cols:\n    unique_values = df[col].unique()\n    print(f\"Unique values in '{col}':\\n\", unique_values)",
      "metadata": {
        "trusted": true
      },
      "outputs": [
        {
          "name": "stdout",
          "text": "Unique values in 'Country':\n ['Afghanistan' 'Albania' 'Algeria' 'Angola' 'Antigua and Barbuda'\n 'Argentina' 'Armenia' 'Australia' 'Austria' 'Azerbaijan' 'Bahamas'\n 'Bahrain' 'Bangladesh' 'Barbados' 'Belarus' 'Belgium' 'Belize' 'Benin'\n 'Bhutan' 'Bolivia (Plurinational State of)' 'Bosnia and Herzegovina'\n 'Botswana' 'Brazil' 'Brunei Darussalam' 'Bulgaria' 'Burkina Faso'\n 'Burundi' \"Côte d'Ivoire\" 'Cabo Verde' 'Cambodia' 'Cameroon' 'Canada'\n 'Central African Republic' 'Chad' 'Chile' 'China' 'Colombia' 'Comoros'\n 'Congo' 'Cook Islands' 'Costa Rica' 'Croatia' 'Cuba' 'Cyprus' 'Czechia'\n \"Democratic People's Republic of Korea\"\n 'Democratic Republic of the Congo' 'Denmark' 'Djibouti' 'Dominica'\n 'Dominican Republic' 'Ecuador' 'Egypt' 'El Salvador' 'Equatorial Guinea'\n 'Eritrea' 'Estonia' 'Ethiopia' 'Fiji' 'Finland' 'France' 'Gabon' 'Gambia'\n 'Georgia' 'Germany' 'Ghana' 'Greece' 'Grenada' 'Guatemala' 'Guinea'\n 'Guinea-Bissau' 'Guyana' 'Haiti' 'Honduras' 'Hungary' 'Iceland' 'India'\n 'Indonesia' 'Iran (Islamic Republic of)' 'Iraq' 'Ireland' 'Israel'\n 'Italy' 'Jamaica' 'Japan' 'Jordan' 'Kazakhstan' 'Kenya' 'Kiribati'\n 'Kuwait' 'Kyrgyzstan' \"Lao People's Democratic Republic\" 'Latvia'\n 'Lebanon' 'Lesotho' 'Liberia' 'Libya' 'Lithuania' 'Luxembourg'\n 'Madagascar' 'Malawi' 'Malaysia' 'Maldives' 'Mali' 'Malta'\n 'Marshall Islands' 'Mauritania' 'Mauritius' 'Mexico'\n 'Micronesia (Federated States of)' 'Monaco' 'Mongolia' 'Montenegro'\n 'Morocco' 'Mozambique' 'Myanmar' 'Namibia' 'Nauru' 'Nepal' 'Netherlands'\n 'New Zealand' 'Nicaragua' 'Niger' 'Nigeria' 'Niue' 'Norway' 'Oman'\n 'Pakistan' 'Palau' 'Panama' 'Papua New Guinea' 'Paraguay' 'Peru'\n 'Philippines' 'Poland' 'Portugal' 'Qatar' 'Republic of Korea'\n 'Republic of Moldova' 'Romania' 'Russian Federation' 'Rwanda'\n 'Saint Kitts and Nevis' 'Saint Lucia' 'Saint Vincent and the Grenadines'\n 'Samoa' 'San Marino' 'Sao Tome and Principe' 'Saudi Arabia' 'Senegal'\n 'Serbia' 'Seychelles' 'Sierra Leone' 'Singapore' 'Slovakia' 'Slovenia'\n 'Solomon Islands' 'Somalia' 'South Africa' 'South Sudan' 'Spain'\n 'Sri Lanka' 'Sudan' 'Suriname' 'Swaziland' 'Sweden' 'Switzerland'\n 'Syrian Arab Republic' 'Tajikistan' 'Thailand'\n 'The former Yugoslav republic of Macedonia' 'Timor-Leste' 'Togo' 'Tonga'\n 'Trinidad and Tobago' 'Tunisia' 'Turkey' 'Turkmenistan' 'Tuvalu' 'Uganda'\n 'Ukraine' 'United Arab Emirates'\n 'United Kingdom of Great Britain and Northern Ireland'\n 'United Republic of Tanzania' 'United States of America' 'Uruguay'\n 'Uzbekistan' 'Vanuatu' 'Venezuela (Bolivarian Republic of)' 'Viet Nam'\n 'Yemen' 'Zambia' 'Zimbabwe']\nUnique values in 'Status':\n ['Developing' 'Developed']\n",
          "output_type": "stream"
        }
      ],
      "execution_count": 37
    },
    {
      "cell_type": "code",
      "source": "#Transform categorical variables into numeric\ndf.columns = df.columns.str.strip()\n\ndf = pd.get_dummies(df, columns=['Country', 'Status'], drop_first=True)\n\nprint(\"Transformed Dataset:\\n\", df.head())",
      "metadata": {
        "trusted": true
      },
      "outputs": [
        {
          "name": "stdout",
          "text": "Transformed Dataset:\n    Year  Life expectancy  Adult Mortality  infant deaths  Alcohol  \\\n0  2015             65.0            263.0             62     0.01   \n1  2014             59.9            271.0             64     0.01   \n2  2013             59.9            268.0             66     0.01   \n3  2012             59.5            272.0             69     0.01   \n4  2011             59.2            275.0             71     0.01   \n\n   percentage expenditure  Hepatitis B  Measles   BMI  under-five deaths  ...  \\\n0               71.279624         65.0     1154  19.1                 83  ...   \n1               73.523582         62.0      492  18.6                 86  ...   \n2               73.219243         64.0      430  18.1                 89  ...   \n3               78.184215         67.0     2787  17.6                 93  ...   \n4                7.097109         68.0     3013  17.2                 97  ...   \n\n   Country_United States of America  Country_Uruguay  Country_Uzbekistan  \\\n0                             False            False               False   \n1                             False            False               False   \n2                             False            False               False   \n3                             False            False               False   \n4                             False            False               False   \n\n   Country_Vanuatu  Country_Venezuela (Bolivarian Republic of)  \\\n0            False                                       False   \n1            False                                       False   \n2            False                                       False   \n3            False                                       False   \n4            False                                       False   \n\n   Country_Viet Nam  Country_Yemen  Country_Zambia  Country_Zimbabwe  \\\n0             False          False           False             False   \n1             False          False           False             False   \n2             False          False           False             False   \n3             False          False           False             False   \n4             False          False           False             False   \n\n   Status_Developing  \n0               True  \n1               True  \n2               True  \n3               True  \n4               True  \n\n[5 rows x 213 columns]\n",
          "output_type": "stream"
        }
      ],
      "execution_count": 38
    },
    {
      "cell_type": "code",
      "source": "#ANOVA test to find significant features\ndf.columns = df.columns.str.strip()\n\nnumeric_cols = [\n    'Adult Mortality', 'infant deaths', 'Alcohol', 'percentage expenditure', \n    'Hepatitis B', 'Measles', 'BMI', 'under-five deaths', 'Polio', \n    'Total expenditure', 'Diphtheria', 'HIV/AIDS', 'GDP', 'Population', \n    'thinness  1-19 years', 'thinness 5-9 years', 'Income composition of resources', \n    'Schooling'\n]\n\nanova_results = {}\nfor col in numeric_cols:\n    f_val, p_val = stats.f_oneway(df['Life expectancy'], df[col])\n    anova_results[col] = p_val\n\nsignificant_features = [col for col in numeric_cols if anova_results[col] < 0.05]\nprint(\"Significant features based on ANOVA test:\", significant_features)",
      "metadata": {
        "trusted": true
      },
      "outputs": [
        {
          "name": "stdout",
          "text": "Significant features based on ANOVA test: ['Adult Mortality', 'infant deaths', 'Alcohol', 'percentage expenditure', 'Hepatitis B', 'Measles', 'BMI', 'under-five deaths', 'Polio', 'Total expenditure', 'Diphtheria', 'HIV/AIDS', 'GDP', 'Population', 'thinness  1-19 years', 'thinness 5-9 years', 'Income composition of resources', 'Schooling']\n",
          "output_type": "stream"
        }
      ],
      "execution_count": 39
    },
    {
      "cell_type": "code",
      "source": "#Feature Scaling\nfeatures_to_scale = [\n    'Adult Mortality', 'infant deaths', 'Alcohol', 'percentage expenditure', \n    'Hepatitis B', 'Measles', 'BMI', 'under-five deaths', 'Polio', \n    'Total expenditure', 'Diphtheria', 'HIV/AIDS', 'GDP', 'Population', \n    'thinness  1-19 years', 'thinness 5-9 years', \n    'Income composition of resources', 'Schooling'\n]\n\nscaler = StandardScaler()\n\ndf[features_to_scale] = scaler.fit_transform(df[features_to_scale])\n\nprint(df[features_to_scale].head())",
      "metadata": {
        "trusted": true
      },
      "outputs": [
        {
          "name": "stdout",
          "text": "   Adult Mortality  infant deaths   Alcohol  percentage expenditure  \\\n0         0.792119       0.268824 -1.156989               -0.335570   \n1         0.856601       0.285786 -1.156989               -0.334441   \n2         0.832421       0.302749 -1.156989               -0.334594   \n3         0.864662       0.328193 -1.156989               -0.332096   \n4         0.888843       0.345155 -1.156989               -0.367862   \n\n   Hepatitis B   Measles       BMI  under-five deaths     Polio  \\\n0    -0.783807 -0.110384 -0.967349           0.255359 -3.279423   \n1    -0.914281 -0.168124 -0.992434           0.274060 -1.053699   \n2    -0.827298 -0.173531 -1.017519           0.292761 -0.882489   \n3    -0.696824  0.032045 -1.042605           0.317696 -0.668478   \n4    -0.653333  0.051757 -1.062673           0.342631 -0.625675   \n\n   Total expenditure  Diphtheria  HIV/AIDS       GDP  Population  \\\n0           0.931485   -0.735391 -0.323445 -0.453371    0.435183   \n1           0.939818   -0.862233 -0.323445 -0.451232   -0.183349   \n2           0.918987   -0.777671 -0.323445 -0.449799    0.398066   \n3           1.081463   -0.650830 -0.323445 -0.446924   -0.120968   \n4           0.810670   -0.608549 -0.323445 -0.492539   -0.134268   \n\n   thinness  1-19 years  thinness 5-9 years  Income composition of resources  \\\n0              2.815209            2.775386                        -0.737973   \n1              2.883439            2.819978                        -0.752600   \n2              2.928926            2.864570                        -0.781853   \n3              2.974413            2.931458                        -0.815982   \n4              3.042643            2.976051                        -0.859862   \n\n   Schooling  \n0  -0.585017  \n1  -0.615649  \n2  -0.646281  \n3  -0.676912  \n4  -0.768808  \n",
          "output_type": "stream"
        }
      ],
      "execution_count": 40
    },
    {
      "cell_type": "code",
      "source": "#Linear Regression\ndf = pd.read_csv('Life Expectancy Data.csv')\n\ndf.columns = df.columns.str.strip()\n\nnum_cols_with_missing = [\n    'Life expectancy', 'Adult Mortality', 'Alcohol', 'Hepatitis B', 'BMI',\n    'Polio', 'Total expenditure', 'Diphtheria', 'GDP', 'Population',\n    'thinness  1-19 years', 'thinness 5-9 years',\n    'Income composition of resources', 'Schooling'\n]\n\ndf['Life expectancy'] = df['Life expectancy'].fillna(df['Life expectancy'].median())\nfor col in num_cols_with_missing:\n    df[col] = df[col].fillna(df[col].median())\n\ndf = pd.get_dummies(df, columns=['Country', 'Status'], drop_first=True)\n\nfeatures = [\n    'Adult Mortality', 'infant deaths', 'Alcohol', 'percentage expenditure',\n    'Hepatitis B', 'Measles', 'BMI', 'under-five deaths', 'Polio',\n    'Total expenditure', 'Diphtheria', 'HIV/AIDS', 'GDP', 'Population',\n    'thinness  1-19 years', 'thinness 5-9 years',\n    'Income composition of resources', 'Schooling'\n]\n\nfeatures = [feature.strip() for feature in features]\nX = df[features]\ny = df['Life expectancy']\n\nX_train, X_test, y_train, y_test = train_test_split(X, y, test_size=0.2, random_state=42)\n\nmodel = LinearRegression()\nmodel.fit(X_train, y_train)\n\ny_pred = model.predict(X_test)\nr2 = r2_score(y_test, y_pred)\nprint(\"Linear Regression R2:\", r2)\n\npickle.dump(model, open('model.pkl', 'wb'))\npickle.dump(scaler, open('scaler.pkl', 'wb'))\n",
      "metadata": {
        "trusted": true
      },
      "outputs": [
        {
          "name": "stdout",
          "text": "Linear Regression R2: 0.8221111322545136\n",
          "output_type": "stream"
        }
      ],
      "execution_count": 41
    },
    {
      "cell_type": "code",
      "source": "#Random Forest\ndf.columns = df.columns.str.strip()\n\nnum_cols_with_missing = [\n    'Life expectancy', 'Adult Mortality', 'Alcohol', 'Hepatitis B', 'BMI',\n    'Polio', 'Total expenditure', 'Diphtheria', 'GDP', 'Population',\n    'thinness  1-19 years', 'thinness 5-9 years',\n    'Income composition of resources', 'Schooling'\n]\n\ndf['Life expectancy'] = df['Life expectancy'].fillna(df['Life expectancy'].median())\nfor col in num_cols_with_missing:\n    df[col] = df[col].fillna(df[col].median())\n\nfeatures = [\n    'Adult Mortality', 'infant deaths', 'Alcohol', 'percentage expenditure',\n    'Hepatitis B', 'Measles', 'BMI', 'under-five deaths', 'Polio',\n    'Total expenditure', 'Diphtheria', 'HIV/AIDS', 'GDP', 'Population',\n    'thinness  1-19 years', 'thinness 5-9 years',\n    'Income composition of resources', 'Schooling'\n]\n\nfeatures = [feature.strip() for feature in features]\nX = df[features]\ny = df['Life expectancy']\n\nscaler = StandardScaler()\nX_normalized = scaler.fit_transform(X)\n\nX_train, X_test, y_train, y_test = train_test_split(X_normalized, y, test_size=0.2, random_state=42)\n\nmodel = RandomForestRegressor(n_estimators=100, random_state=42)\nmodel.fit(X_train, y_train)\n\ny_pred = model.predict(X_test)\nprint(f\"Random Forest R2 Score: {r2_score(y_test, y_pred):.2f}\")\n\n\npickle.dump(model, open('model.pkl', 'wb'))\npickle.dump(scaler, open('scaler.pkl', 'wb'))",
      "metadata": {
        "trusted": true
      },
      "outputs": [
        {
          "name": "stdout",
          "text": "Random Forest R2 Score: 0.97\n",
          "output_type": "stream"
        }
      ],
      "execution_count": 42
    },
    {
      "cell_type": "code",
      "source": "#Testing with real world examples.\nAdult_Mortality = 263\ninfant_deaths = 62\nAlcohol = 0.01\npercentage_expenditure = 71.27962362\nHepatitis_B = 65\nMeasles = 1154\nBMI = 19.1\nunder_five_deaths = 83\nPolio = 6\nTotal_expenditure = 8.16\nDiphtheria = 65\nHIV_AIDS = 0.1\nGDP = 584.25921\nPopulation = 33736494\nthinness_1_19_years = 17.2\nthinness_5_9_years = 17.3\nIncome_composition_of_resources = 0.479\nSchooling = 10.1\n\nCLF_model = pickle.load(open('model.pkl', \"rb\"))\nscaler = pickle.load(open('scaler.pkl', 'rb'))\n\nfeature_names = [\n    'Adult Mortality', 'infant deaths', 'Alcohol', 'percentage expenditure',\n    'Hepatitis B', 'Measles', 'BMI', 'under-five deaths', 'Polio',\n    'Total expenditure', 'Diphtheria', 'HIV/AIDS', 'GDP', 'Population',\n    'thinness  1-19 years', 'thinness 5-9 years',\n    'Income composition of resources', 'Schooling'\n]\n\ninput_features = pd.DataFrame([[\n    Adult_Mortality, infant_deaths, Alcohol, percentage_expenditure, Hepatitis_B,\n    Measles, BMI, under_five_deaths, Polio, Total_expenditure, Diphtheria,\n    HIV_AIDS, GDP, Population, thinness_1_19_years, thinness_5_9_years,\n    Income_composition_of_resources, Schooling\n]], columns=feature_names)\n\nscaled_features = scaler.transform(input_features)\n\nresult = CLF_model.predict(scaled_features)\nprint(result)",
      "metadata": {
        "trusted": true
      },
      "outputs": [
        {
          "name": "stdout",
          "text": "[63.954]\n",
          "output_type": "stream"
        }
      ],
      "execution_count": 43
    },
    {
      "cell_type": "code",
      "source": "",
      "metadata": {
        "trusted": true
      },
      "outputs": [],
      "execution_count": null
    }
  ]
}